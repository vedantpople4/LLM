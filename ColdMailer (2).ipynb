{
  "cells": [
    {
      "cell_type": "code",
      "execution_count": 1,
      "metadata": {
        "id": "38mXe0gEh04w"
      },
      "outputs": [],
      "source": [
        "import pandas as pd\n",
        "import numpy as np"
      ]
    },
    {
      "cell_type": "code",
      "execution_count": 14,
      "metadata": {
        "id": "GIsrOMpdjuDH"
      },
      "outputs": [],
      "source": [
        "API_KEY = ''\n",
        "EMAIL_PWD = ''"
      ]
    },
    {
      "cell_type": "code",
      "source": [
        "import pandas as pd\n",
        "data = pd.read_csv('data.csv')\n",
        "data.head()"
      ],
      "metadata": {
        "collapsed": true,
        "id": "gqLuky6-4K4F"
      },
      "execution_count": null,
      "outputs": []
    },
    {
      "cell_type": "code",
      "source": [
        "import smtplib as s\n",
        "from email.mime.multipart import MIMEMultipart\n",
        "from email.mime.text import MIMEText\n",
        "from email.mime.base import MIMEBase\n",
        "from email import encoders\n",
        "import google.generativeai as genai\n",
        "\n",
        "def generate_email_body(name, position, keywords, company):\n",
        "    genai.configure(api_key=API_KEY)\n",
        "    model = genai.GenerativeModel('gemini-pro')\n",
        "    prompt = f\"Write a professional email body for a cold outreach to a recruiter named {name} for the position of {position} at {company}, showing keen interest, relevant skills from given skills, mentioning previous startup experience and ability to build from scratch.\\n Skills: {keywords}. Limit the response to 200 words. Replace [Your Name] with Vedant Pople. Don't use any [Company Name]. Don't use any other [ ].\"\n",
        "    response = model.generate_content(prompt)\n",
        "    return response.text\n",
        "\n",
        "object = s.SMTP('smtp.gmail.com', 587)\n",
        "object.ehlo()\n",
        "object.starttls()\n",
        "object.login('vpople4@gmail.com', EMAIL_PWD)\n",
        "\n",
        "for index, row in data.iterrows():\n",
        "    name = row['Name']\n",
        "    email = row['Email']\n",
        "    position = row['Position']\n",
        "    company = row['Company']\n",
        "    keywords = row['Key Words']\n",
        "\n",
        "    subject = f\"Excited to apply for {position} position at your company.\"\n",
        "\n",
        "    body = generate_email_body(name, position, keywords, company)\n",
        "    print(\"Generated email body:\")\n",
        "    print(body)\n",
        "\n",
        "    user_input = input(\"Would you like to make changes to the email body? (yes/no): \").lower()\n",
        "\n",
        "    if user_input == 'yes':\n",
        "        print(\"Please enter the modified email body. Press Enter twice when you're done:\")\n",
        "        modified_body = []\n",
        "        while True:\n",
        "            line = input()\n",
        "            if line == \"\":\n",
        "                break\n",
        "            modified_body.append(line)\n",
        "        body = \"\\n\".join(modified_body)\n",
        "\n",
        "    msg = MIMEMultipart()\n",
        "    msg[\"From\"] = 'vpople4@gmail.com'\n",
        "    msg[\"To\"] = email\n",
        "    msg[\"Subject\"] = subject\n",
        "    msg.attach(MIMEText(body, 'plain'))\n",
        "\n",
        "    filepath2 = r'VM-Pople-CV.pdf'\n",
        "    attachments = [filepath2]\n",
        "\n",
        "    for filepath in attachments:\n",
        "        filename = filepath.split('\\\\')[-1]\n",
        "        with open(filepath, 'rb') as attachment:\n",
        "            part = MIMEBase('application', 'octet-stream')\n",
        "            part.set_payload(attachment.read())\n",
        "            encoders.encode_base64(part)\n",
        "            part.add_header('Content-Disposition', f'attachment; filename={filename}')\n",
        "            msg.attach(part)\n",
        "\n",
        "    send_confirmation = input(\"Do you want to send this email? (yes/no): \").lower()\n",
        "\n",
        "    if send_confirmation == 'yes':\n",
        "        # Send email\n",
        "        object.send_message(msg)\n",
        "        print(\"Email sent successfully!\")\n",
        "    else:\n",
        "        print(\"Email sending cancelled.\")\n",
        "\n",
        "object.quit()"
      ],
      "metadata": {
        "id": "T-ZyTMpk3Y51"
      },
      "execution_count": null,
      "outputs": []
    }
  ],
  "metadata": {
    "colab": {
      "provenance": []
    },
    "kernelspec": {
      "display_name": "Python 3",
      "name": "python3"
    },
    "language_info": {
      "name": "python"
    }
  },
  "nbformat": 4,
  "nbformat_minor": 0
}